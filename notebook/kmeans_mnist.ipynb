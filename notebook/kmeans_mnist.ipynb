{
 "cells": [
  {
   "cell_type": "markdown",
   "metadata": {},
   "source": [
    "# End-to-End Example #1\n",
    "\n",
    "1. [Introduction](#Introduction)\n",
    "2. [Prerequisites and Preprocessing](#Prequisites-and-Preprocessing)\n",
    "  1. [Permissions and environment variables](#Permissions-and-environment-variables)\n",
    "  2. [Data ingestion](#Data-ingestion)\n",
    "  3. [Data inspection](#Data-inspection)\n",
    "  4. [Data conversion](#Data-conversion)\n",
    "3. [Training the K-Means model](#Training-the-K-Means-model)\n",
    "4. [Set up hosting for the model](#Set-up-hosting-for-the-model)\n",
    "5. [Validate the model for use](#Validate-the-model-for-use)\n"
   ]
  },
  {
   "cell_type": "markdown",
   "metadata": {},
   "source": [
    "## Introduction\n",
    "\n",
    "Welcome to our first end-to-end example! Today, we're working through a classification problem, specifically of images of handwritten digits, from zero to nine. Let's imagine that this dataset doesn't have labels, so we don't know for sure what the true answer is. In later examples, we'll show the value of \"ground truth\", as it's commonly known.\n",
    "\n",
    "Today, however, we need to get these digits classified without ground truth. A common method for doing this is a set of methods known as \"clustering\", and in particular, the method that we'll look at today is called k-means clustering. In this method, each point belongs to the cluster with the closest mean, and the data is partitioned into a number of clusters that is specified when framing the problem. In this case, since we know there are 10 clusters, and we have no labeled data (in the way we framed the problem), this is a good fit.\n",
    "\n",
    "To get started, we need to set up the environment with a few prerequisite steps, for permissions, configurations, and so on."
   ]
  },
  {
   "cell_type": "markdown",
   "metadata": {},
   "source": [
    "## Prequisites and Preprocessing\n",
    "\n",
    "### Permissions and environment variables\n",
    "\n",
    "Here we set up the linkage and authentication to AWS services. There are two parts to this:\n",
    "\n",
    "1. The role(s) used to give learning and hosting access to your data. Here we extract the role you created earlier for accessing your notebook. See the documentation if you want to specify a different role.\n",
    "1. The S3 bucket name that you want to use for training and model data. Here we use a default in the form of `sagemaker-{region}-{AWS account ID}`, but you may specify a different one if you wish."
   ]
  },
  {
   "cell_type": "code",
   "execution_count": 30,
   "metadata": {},
   "outputs": [],
   "source": [
    "%matplotlib inline"
   ]
  },
  {
   "cell_type": "code",
   "execution_count": 32,
   "metadata": {
    "isConfigCell": true
   },
   "outputs": [],
   "source": [
    "from sagemaker import get_execution_role\n",
    "from sagemaker.session import Session\n",
    "\n",
    "role = get_execution_role()\n",
    "bucket = Session().default_bucket()"
   ]
  },
  {
   "cell_type": "markdown",
   "metadata": {},
   "source": [
    "### Data ingestion\n",
    "\n",
    "Next, we read the dataset from the existing repository into memory, for preprocessing prior to training.  In this case we'll use the MNIST dataset, which contains 70K 28 x 28 pixel images of handwritten digits.  For more details, please see [here](http://yann.lecun.com/exdb/mnist/).\n",
    "\n",
    "This processing could be done *in situ* by Amazon Athena, Apache Spark in Amazon EMR, Amazon Redshift, etc., assuming the dataset is present in the appropriate location. Then, the next step would be to transfer the data to S3 for use in training. For small datasets, such as this one, reading into memory isn't onerous, though it would be for larger datasets."
   ]
  },
  {
   "cell_type": "code",
   "execution_count": 33,
   "metadata": {},
   "outputs": [
    {
     "name": "stdout",
     "output_type": "stream",
     "text": [
      "CPU times: user 805 ms, sys: 274 ms, total: 1.08 s\n",
      "Wall time: 1.25 s\n"
     ]
    }
   ],
   "source": [
    "%%time\n",
    "import pickle, gzip, numpy, boto3, json\n",
    "\n",
    "# Load the dataset\n",
    "region = boto3.Session().region_name\n",
    "boto3.Session().resource('s3', region_name=region).Bucket('sagemaker-sample-data-{}'.format(region)).download_file('algorithms/kmeans/mnist/mnist.pkl.gz', 'mnist.pkl.gz')\n",
    "with gzip.open('mnist.pkl.gz', 'rb') as f:\n",
    "    train_set, valid_set, test_set = pickle.load(f, encoding='latin1')"
   ]
  },
  {
   "cell_type": "markdown",
   "metadata": {},
   "source": [
    "### Data inspection\n",
    "\n",
    "Once the dataset is imported, it's typical as part of the machine learning process to inspect the data, understand the distributions, and determine what type(s) of preprocessing might be needed. You can perform those tasks right here in the notebook. As an example, let's go ahead and look at one of the digits that is part of the dataset."
   ]
  },
  {
   "cell_type": "code",
   "execution_count": 34,
   "metadata": {},
   "outputs": [
    {
     "data": {
      "image/png": "[encoded data removed]",
      "text/plain": [
       "<Figure size 144x720 with 1 Axes>"
      ]
     },
     "metadata": {},
     "output_type": "display_data"
    },
    {
     "data": {
      "image/png": "[encoded data removed]",
      "text/plain": [
       "<Figure size 144x720 with 1 Axes>"
      ]
     },
     "metadata": {},
     "output_type": "display_data"
    }
   ],
   "source": [
    "import matplotlib.pyplot as plt\n",
    "plt.rcParams[\"figure.figsize\"] = (2,10)\n",
    "\n",
    "\n",
    "def show_digit(img, caption='', subplot=None):\n",
    "    if subplot==None:\n",
    "        _,(subplot)=plt.subplots(1,1)\n",
    "    imgr=img.reshape((28,28))\n",
    "    subplot.axis('off')\n",
    "    subplot.imshow(imgr, cmap='gray')\n",
    "    plt.title(caption)\n",
    "\n",
    "show_digit(train_set[0][30], 'This is a {}'.format(train_set[1][30]))\n",
    "\n",
    "show_digit(train_set[0][31], 'This is a {}'.format(train_set[1][31]))\n"
   ]
  },
  {
   "cell_type": "markdown",
   "metadata": {},
   "source": [
    "## Training the K-Means model\n",
    "\n",
    "Once we have the data preprocessed and available in the correct format for training, the next step is to actually train the model using the data. Since this data is relatively small, it isn't meant to show off the performance of the k-means training algorithm.  But Amazon SageMaker's k-means has been tested on, and scales well with, multi-terabyte datasets.\n",
    "\n",
    "After setting training parameters, we kick off training, and poll for status until training is completed, which in this example, takes around 4 minutes."
   ]
  },
  {
   "cell_type": "code",
   "execution_count": 41,
   "metadata": {},
   "outputs": [
    {
     "name": "stdout",
     "output_type": "stream",
     "text": [
      "training data will be uploaded to: s3://sagemaker-us-east-2-123256678532/kmeans_highlevel_example/data\n",
      "training artifacts will be uploaded to: s3://sagemaker-us-east-2-123256678532/kmeans_example/output\n"
     ]
    }
   ],
   "source": [
    "from sagemaker import KMeans\n",
    "\n",
    "data_location = 's3://{}/kmeans_highlevel_example/data'.format(bucket)\n",
    "output_location = 's3://{}/kmeans_example/output'.format(bucket)\n",
    "\n",
    "print('training data will be uploaded to: {}'.format(data_location))\n",
    "print('training artifacts will be uploaded to: {}'.format(output_location))\n",
    "\n",
    "kmeans = KMeans(role=role,\n",
    "                train_instance_count=2,\n",
    "                train_instance_type='ml.c4.xlarge',\n",
    "                output_path=output_location,\n",
    "                k=10,\n",
    "                data_location=data_location)"
   ]
  },
  {
   "cell_type": "code",
   "execution_count": 9,
   "metadata": {},
   "outputs": [
    {
     "name": "stdout",
     "output_type": "stream",
     "text": [
      "2020-02-17 07:33:25 Starting - Starting the training job...\n",
      "2020-02-17 07:33:26 Starting - Launching requested ML instances...\n",
      "2020-02-17 07:34:21 Starting - Preparing the instances for training.........\n",
      "2020-02-17 07:35:55 Downloading - Downloading input data\n",
      "2020-02-17 07:35:55 Training - Downloading the training image..\u001b[34mDocker entrypoint called with argument(s): train\u001b[0m\n",
      "\u001b[35mDocker entrypoint called with argument(s): train\u001b[0m\n",
      "\u001b[34m[02/17/2020 07:36:11 INFO 140236771903296] Reading default configuration from /opt/amazon/lib/python2.7/site-packages/algorithm/resources/default-input.json: {u'_enable_profiler': u'false', u'_tuning_objective_metric': u'', u'_num_gpus': u'auto', u'local_lloyd_num_trials': u'auto', u'_log_level': u'info', u'_kvstore': u'auto', u'local_lloyd_init_method': u'kmeans++', u'force_dense': u'true', u'epochs': u'1', u'init_method': u'random', u'local_lloyd_tol': u'0.0001', u'local_lloyd_max_iter': u'300', u'_disable_wait_to_read': u'false', u'extra_center_factor': u'auto', u'eval_metrics': u'[\"msd\"]', u'_num_kv_servers': u'1', u'mini_batch_size': u'5000', u'half_life_time_size': u'0', u'_num_slices': u'1'}\u001b[0m\n",
      "\u001b[34m[02/17/2020 07:36:11 INFO 140236771903296] Reading provided configuration from /opt/ml/input/config/hyperparameters.json: {u'feature_dim': u'784', u'k': u'10', u'force_dense': u'True'}\u001b[0m\n",
      "\u001b[34m[02/17/2020 07:36:12 INFO 140236771903296] Final configuration: {u'_tuning_objective_metric': u'', u'extra_center_factor': u'auto', u'local_lloyd_init_method': u'kmeans++', u'force_dense': u'True', u'epochs': u'1', u'feature_dim': u'784', u'local_lloyd_tol': u'0.0001', u'_disable_wait_to_read': u'false', u'eval_metrics': u'[\"msd\"]', u'_num_kv_servers': u'1', u'mini_batch_size': u'5000', u'_enable_profiler': u'false', u'_num_gpus': u'auto', u'local_lloyd_num_trials': u'auto', u'_log_level': u'info', u'init_method': u'random', u'half_life_time_size': u'0', u'local_lloyd_max_iter': u'300', u'_kvstore': u'auto', u'k': u'10', u'_num_slices': u'1'}\u001b[0m\n",
      "\u001b[34m[02/17/2020 07:36:12 WARNING 140236771903296] Loggers have already been setup.\u001b[0m\n",
      "\u001b[34m[02/17/2020 07:36:12 INFO 140236771903296] Launching parameter server for role scheduler\u001b[0m\n",
      "\u001b[34m[02/17/2020 07:36:12 INFO 140236771903296] {'ECS_CONTAINER_METADATA_URI': 'http://169.254.170.2/v3/5ff1e922-8005-4d22-bf3c-b21b4c68a569', 'PROTOCOL_BUFFERS_PYTHON_IMPLEMENTATION_VERSION': '2', 'PATH': '/opt/amazon/bin:/usr/local/nvidia/bin:/usr/local/sbin:/usr/local/bin:/usr/sbin:/usr/bin:/sbin:/bin:/opt/amazon/bin:/opt/amazon/bin', 'SAGEMAKER_HTTP_PORT': '8080', 'HOME': '/root', 'PYTHONUNBUFFERED': 'TRUE', 'CANONICAL_ENVROOT': '/opt/amazon', 'LD_LIBRARY_PATH': '/opt/amazon/lib/python2.7/site-packages/cv2/../../../../lib:/usr/local/nvidia/lib64:/opt/amazon/lib', 'MXNET_KVSTORE_BIGARRAY_BOUND': '400000000', 'LANG': 'en_US.utf8', 'DMLC_INTERFACE': 'eth0', 'SHLVL': '1', 'AWS_REGION': 'us-east-2', 'NVIDIA_DRIVER_CAPABILITIES': 'compute,utility', 'NVIDIA_VISIBLE_DEVICES': 'void', 'TRAINING_JOB_NAME': 'kmeans-2020-02-17-07-33-25-639', 'PROTOCOL_BUFFERS_PYTHON_IMPLEMENTATION': 'cpp', 'ENVROOT': '/opt/amazon', 'SAGEMAKER_DATA_PATH': '/opt/ml', 'SAGEMAKER_METRICS_DIRECTORY': '/opt/ml/output/metrics/sagemaker', 'NVIDIA_REQUIRE_CUDA': 'cuda>=9.0', 'OMP_NUM_THREADS': '2', 'HOSTNAME': 'ip-10-0-218-159.us-east-2.compute.internal', 'AWS_CONTAINER_CREDENTIALS_RELATIVE_URI': '/v2/credentials/9a0f3a67-5770-4c12-b189-23fa60e1c436', 'PWD': '/', 'TRAINING_JOB_ARN': 'arn:aws:sagemaker:us-east-2:123256678532:training-job/kmeans-2020-02-17-07-33-25-639', 'AWS_EXECUTION_ENV': 'AWS_ECS_EC2'}\u001b[0m\n",
      "\u001b[34m[02/17/2020 07:36:12 INFO 140236771903296] envs={'ECS_CONTAINER_METADATA_URI': 'http://169.254.170.2/v3/5ff1e922-8005-4d22-bf3c-b21b4c68a569', 'PROTOCOL_BUFFERS_PYTHON_IMPLEMENTATION_VERSION': '2', 'DMLC_NUM_WORKER': '2', 'DMLC_PS_ROOT_PORT': '9000', 'PATH': '/opt/amazon/bin:/usr/local/nvidia/bin:/usr/local/sbin:/usr/local/bin:/usr/sbin:/usr/bin:/sbin:/bin:/opt/amazon/bin:/opt/amazon/bin', 'SAGEMAKER_HTTP_PORT': '8080', 'HOME': '/root', 'PYTHONUNBUFFERED': 'TRUE', 'CANONICAL_ENVROOT': '/opt/amazon', 'LD_LIBRARY_PATH': '/opt/amazon/lib/python2.7/site-packages/cv2/../../../../lib:/usr/local/nvidia/lib64:/opt/amazon/lib', 'MXNET_KVSTORE_BIGARRAY_BOUND': '400000000', 'LANG': 'en_US.utf8', 'DMLC_INTERFACE': 'eth0', 'SHLVL': '1', 'DMLC_PS_ROOT_URI': '10.0.218.159', 'AWS_REGION': 'us-east-2', 'NVIDIA_DRIVER_CAPABILITIES': 'compute,utility', 'NVIDIA_VISIBLE_DEVICES': 'void', 'TRAINING_JOB_NAME': 'kmeans-2020-02-17-07-33-25-639', 'PROTOCOL_BUFFERS_PYTHON_IMPLEMENTATION': 'cpp', 'ENVROOT': '/opt/amazon', 'SAGEMAKER_DATA_PATH': '/opt/ml', 'SAGEMAKER_METRICS_DIRECTORY': '/opt/ml/output/metrics/sagemaker', 'NVIDIA_REQUIRE_CUDA': 'cuda>=9.0', 'OMP_NUM_THREADS': '2', 'HOSTNAME': 'ip-10-0-218-159.us-east-2.compute.internal', 'AWS_CONTAINER_CREDENTIALS_RELATIVE_URI': '/v2/credentials/9a0f3a67-5770-4c12-b189-23fa60e1c436', 'DMLC_ROLE': 'scheduler', 'PWD': '/', 'DMLC_NUM_SERVER': '1', 'TRAINING_JOB_ARN': 'arn:aws:sagemaker:us-east-2:123256678532:training-job/kmeans-2020-02-17-07-33-25-639', 'AWS_EXECUTION_ENV': 'AWS_ECS_EC2'}\u001b[0m\n",
      "\u001b[35m[02/17/2020 07:36:11 INFO 140259905345344] Reading default configuration from /opt/amazon/lib/python2.7/site-packages/algorithm/resources/default-input.json: {u'_enable_profiler': u'false', u'_tuning_objective_metric': u'', u'_num_gpus': u'auto', u'local_lloyd_num_trials': u'auto', u'_log_level': u'info', u'_kvstore': u'auto', u'local_lloyd_init_method': u'kmeans++', u'force_dense': u'true', u'epochs': u'1', u'init_method': u'random', u'local_lloyd_tol': u'0.0001', u'local_lloyd_max_iter': u'300', u'_disable_wait_to_read': u'false', u'extra_center_factor': u'auto', u'eval_metrics': u'[\"msd\"]', u'_num_kv_servers': u'1', u'mini_batch_size': u'5000', u'half_life_time_size': u'0', u'_num_slices': u'1'}\u001b[0m\n",
      "\u001b[35m[02/17/2020 07:36:11 INFO 140259905345344] Reading provided configuration from /opt/ml/input/config/hyperparameters.json: {u'feature_dim': u'784', u'k': u'10', u'force_dense': u'True'}\u001b[0m\n",
      "\u001b[35m[02/17/2020 07:36:11 INFO 140259905345344] Final configuration: {u'_tuning_objective_metric': u'', u'extra_center_factor': u'auto', u'local_lloyd_init_method': u'kmeans++', u'force_dense': u'True', u'epochs': u'1', u'feature_dim': u'784', u'local_lloyd_tol': u'0.0001', u'_disable_wait_to_read': u'false', u'eval_metrics': u'[\"msd\"]', u'_num_kv_servers': u'1', u'mini_batch_size': u'5000', u'_enable_profiler': u'false', u'_num_gpus': u'auto', u'local_lloyd_num_trials': u'auto', u'_log_level': u'info', u'init_method': u'random', u'half_life_time_size': u'0', u'local_lloyd_max_iter': u'300', u'_kvstore': u'auto', u'k': u'10', u'_num_slices': u'1'}\u001b[0m\n",
      "\u001b[35m[02/17/2020 07:36:11 WARNING 140259905345344] Loggers have already been setup.\u001b[0m\n",
      "\u001b[35m[02/17/2020 07:36:11 INFO 140259905345344] Environment: {'ECS_CONTAINER_METADATA_URI': 'http://169.254.170.2/v3/7caf1488-c835-4060-a5e4-a2fdc2c8399a', 'PROTOCOL_BUFFERS_PYTHON_IMPLEMENTATION_VERSION': '2', 'DMLC_PS_ROOT_PORT': '9000', 'DMLC_NUM_WORKER': '2', 'SAGEMAKER_HTTP_PORT': '8080', 'PATH': '/opt/amazon/bin:/usr/local/nvidia/bin:/usr/local/sbin:/usr/local/bin:/usr/sbin:/usr/bin:/sbin:/bin:/opt/amazon/bin:/opt/amazon/bin', 'PYTHONUNBUFFERED': 'TRUE', 'CANONICAL_ENVROOT': '/opt/amazon', 'LD_LIBRARY_PATH': '/opt/amazon/lib/python2.7/site-packages/cv2/../../../../lib:/usr/local/nvidia/lib64:/opt/amazon/lib', 'MXNET_KVSTORE_BIGARRAY_BOUND': '400000000', 'LANG': 'en_US.utf8', 'DMLC_INTERFACE': 'eth0', 'SHLVL': '1', 'DMLC_PS_ROOT_URI': '10.0.218.159', 'AWS_REGION': 'us-east-2', 'SAGEMAKER_METRICS_DIRECTORY': '/opt/ml/output/metrics/sagemaker', 'NVIDIA_VISIBLE_DEVICES': 'void', 'TRAINING_JOB_NAME': 'kmeans-2020-02-17-07-33-25-639', 'HOME': '/root', 'PROTOCOL_BUFFERS_PYTHON_IMPLEMENTATION': 'cpp', 'ENVROOT': '/opt/amazon', 'SAGEMAKER_DATA_PATH': '/opt/ml', 'NVIDIA_DRIVER_CAPABILITIES': 'compute,utility', 'NVIDIA_REQUIRE_CUDA': 'cuda>=9.0', 'OMP_NUM_THREADS': '2', 'HOSTNAME': 'ip-10-0-242-226.us-east-2.compute.internal', 'AWS_CONTAINER_CREDENTIALS_RELATIVE_URI': '/v2/credentials/69184af6-d268-4058-8138-cf59094cc590', 'DMLC_ROLE': 'worker', 'PWD': '/', 'DMLC_NUM_SERVER': '1', 'TRAINING_JOB_ARN': 'arn:aws:sagemaker:us-east-2:123256678532:training-job/kmeans-2020-02-17-07-33-25-639', 'AWS_EXECUTION_ENV': 'AWS_ECS_EC2'}\u001b[0m\n",
      "\u001b[35mProcess 1 is a worker.\u001b[0m\n",
      "\u001b[35m[02/17/2020 07:36:11 INFO 140259905345344] Using default worker.\u001b[0m\n",
      "\u001b[35m[02/17/2020 07:36:11 INFO 140259905345344] Loaded iterator creator application/x-recordio-protobuf for content type ('application/x-recordio-protobuf', '1.0')\u001b[0m\n",
      "\u001b[35m[02/17/2020 07:36:11 INFO 140259905345344] Create Store: dist_async\u001b[0m\n",
      "\u001b[34m[02/17/2020 07:36:12 INFO 140236771903296] Launching parameter server for role server\u001b[0m\n",
      "\u001b[34m[02/17/2020 07:36:12 INFO 140236771903296] {'ECS_CONTAINER_METADATA_URI': 'http://169.254.170.2/v3/5ff1e922-8005-4d22-bf3c-b21b4c68a569', 'PROTOCOL_BUFFERS_PYTHON_IMPLEMENTATION_VERSION': '2', 'PATH': '/opt/amazon/bin:/usr/local/nvidia/bin:/usr/local/sbin:/usr/local/bin:/usr/sbin:/usr/bin:/sbin:/bin:/opt/amazon/bin:/opt/amazon/bin', 'SAGEMAKER_HTTP_PORT': '8080', 'HOME': '/root', 'PYTHONUNBUFFERED': 'TRUE', 'CANONICAL_ENVROOT': '/opt/amazon', 'LD_LIBRARY_PATH': '/opt/amazon/lib/python2.7/site-packages/cv2/../../../../lib:/usr/local/nvidia/lib64:/opt/amazon/lib', 'MXNET_KVSTORE_BIGARRAY_BOUND': '400000000', 'LANG': 'en_US.utf8', 'DMLC_INTERFACE': 'eth0', 'SHLVL': '1', 'AWS_REGION': 'us-east-2', 'NVIDIA_DRIVER_CAPABILITIES': 'compute,utility', 'NVIDIA_VISIBLE_DEVICES': 'void', 'TRAINING_JOB_NAME': 'kmeans-2020-02-17-07-33-25-639', 'PROTOCOL_BUFFERS_PYTHON_IMPLEMENTATION': 'cpp', 'ENVROOT': '/opt/amazon', 'SAGEMAKER_DATA_PATH': '/opt/ml', 'SAGEMAKER_METRICS_DIRECTORY': '/opt/ml/output/metrics/sagemaker', 'NVIDIA_REQUIRE_CUDA': 'cuda>=9.0', 'OMP_NUM_THREADS': '2', 'HOSTNAME': 'ip-10-0-218-159.us-east-2.compute.internal', 'AWS_CONTAINER_CREDENTIALS_RELATIVE_URI': '/v2/credentials/9a0f3a67-5770-4c12-b189-23fa60e1c436', 'PWD': '/', 'TRAINING_JOB_ARN': 'arn:aws:sagemaker:us-east-2:123256678532:training-job/kmeans-2020-02-17-07-33-25-639', 'AWS_EXECUTION_ENV': 'AWS_ECS_EC2'}\u001b[0m\n",
      "\u001b[34m[02/17/2020 07:36:12 INFO 140236771903296] envs={'ECS_CONTAINER_METADATA_URI': 'http://169.254.170.2/v3/5ff1e922-8005-4d22-bf3c-b21b4c68a569', 'PROTOCOL_BUFFERS_PYTHON_IMPLEMENTATION_VERSION': '2', 'DMLC_NUM_WORKER': '2', 'DMLC_PS_ROOT_PORT': '9000', 'PATH': '/opt/amazon/bin:/usr/local/nvidia/bin:/usr/local/sbin:/usr/local/bin:/usr/sbin:/usr/bin:/sbin:/bin:/opt/amazon/bin:/opt/amazon/bin', 'SAGEMAKER_HTTP_PORT': '8080', 'HOME': '/root', 'PYTHONUNBUFFERED': 'TRUE', 'CANONICAL_ENVROOT': '/opt/amazon', 'LD_LIBRARY_PATH': '/opt/amazon/lib/python2.7/site-packages/cv2/../../../../lib:/usr/local/nvidia/lib64:/opt/amazon/lib', 'MXNET_KVSTORE_BIGARRAY_BOUND': '400000000', 'LANG': 'en_US.utf8', 'DMLC_INTERFACE': 'eth0', 'SHLVL': '1', 'DMLC_PS_ROOT_URI': '10.0.218.159', 'AWS_REGION': 'us-east-2', 'NVIDIA_DRIVER_CAPABILITIES': 'compute,utility', 'NVIDIA_VISIBLE_DEVICES': 'void', 'TRAINING_JOB_NAME': 'kmeans-2020-02-17-07-33-25-639', 'PROTOCOL_BUFFERS_PYTHON_IMPLEMENTATION': 'cpp', 'ENVROOT': '/opt/amazon', 'SAGEMAKER_DATA_PATH': '/opt/ml', 'SAGEMAKER_METRICS_DIRECTORY': '/opt/ml/output/metrics/sagemaker', 'NVIDIA_REQUIRE_CUDA': 'cuda>=9.0', 'OMP_NUM_THREADS': '2', 'HOSTNAME': 'ip-10-0-218-159.us-east-2.compute.internal', 'AWS_CONTAINER_CREDENTIALS_RELATIVE_URI': '/v2/credentials/9a0f3a67-5770-4c12-b189-23fa60e1c436', 'DMLC_ROLE': 'server', 'PWD': '/', 'DMLC_NUM_SERVER': '1', 'TRAINING_JOB_ARN': 'arn:aws:sagemaker:us-east-2:123256678532:training-job/kmeans-2020-02-17-07-33-25-639', 'AWS_EXECUTION_ENV': 'AWS_ECS_EC2'}\u001b[0m\n",
      "\u001b[34m[02/17/2020 07:36:12 INFO 140236771903296] Environment: {'ECS_CONTAINER_METADATA_URI': 'http://169.254.170.2/v3/5ff1e922-8005-4d22-bf3c-b21b4c68a569', 'PROTOCOL_BUFFERS_PYTHON_IMPLEMENTATION_VERSION': '2', 'DMLC_PS_ROOT_PORT': '9000', 'DMLC_NUM_WORKER': '2', 'SAGEMAKER_HTTP_PORT': '8080', 'PATH': '/opt/amazon/bin:/usr/local/nvidia/bin:/usr/local/sbin:/usr/local/bin:/usr/sbin:/usr/bin:/sbin:/bin:/opt/amazon/bin:/opt/amazon/bin', 'PYTHONUNBUFFERED': 'TRUE', 'CANONICAL_ENVROOT': '/opt/amazon', 'LD_LIBRARY_PATH': '/opt/amazon/lib/python2.7/site-packages/cv2/../../../../lib:/usr/local/nvidia/lib64:/opt/amazon/lib', 'MXNET_KVSTORE_BIGARRAY_BOUND': '400000000', 'LANG': 'en_US.utf8', 'DMLC_INTERFACE': 'eth0', 'SHLVL': '1', 'DMLC_PS_ROOT_URI': '10.0.218.159', 'AWS_REGION': 'us-east-2', 'SAGEMAKER_METRICS_DIRECTORY': '/opt/ml/output/metrics/sagemaker', 'NVIDIA_VISIBLE_DEVICES': 'void', 'TRAINING_JOB_NAME': 'kmeans-2020-02-17-07-33-25-639', 'HOME': '/root', 'PROTOCOL_BUFFERS_PYTHON_IMPLEMENTATION': 'cpp', 'ENVROOT': '/opt/amazon', 'SAGEMAKER_DATA_PATH': '/opt/ml', 'NVIDIA_DRIVER_CAPABILITIES': 'compute,utility', 'NVIDIA_REQUIRE_CUDA': 'cuda>=9.0', 'OMP_NUM_THREADS': '2', 'HOSTNAME': 'ip-10-0-218-159.us-east-2.compute.internal', 'AWS_CONTAINER_CREDENTIALS_RELATIVE_URI': '/v2/credentials/9a0f3a67-5770-4c12-b189-23fa60e1c436', 'DMLC_ROLE': 'worker', 'PWD': '/', 'DMLC_NUM_SERVER': '1', 'TRAINING_JOB_ARN': 'arn:aws:sagemaker:us-east-2:123256678532:training-job/kmeans-2020-02-17-07-33-25-639', 'AWS_EXECUTION_ENV': 'AWS_ECS_EC2'}\u001b[0m\n",
      "\u001b[34mProcess 60 is a shell:scheduler.\u001b[0m\n",
      "\u001b[34mProcess 69 is a shell:server.\u001b[0m\n",
      "\u001b[34mProcess 1 is a worker.\u001b[0m\n",
      "\u001b[34m[02/17/2020 07:36:12 INFO 140236771903296] Using default worker.\u001b[0m\n",
      "\u001b[34m[02/17/2020 07:36:12 INFO 140236771903296] Loaded iterator creator application/x-recordio-protobuf for content type ('application/x-recordio-protobuf', '1.0')\u001b[0m\n",
      "\u001b[34m[02/17/2020 07:36:12 INFO 140236771903296] Create Store: dist_async\u001b[0m\n",
      "\u001b[34m[02/17/2020 07:36:12 INFO 140236771903296] nvidia-smi took: 0.0251958370209 secs to identify 0 gpus\u001b[0m\n",
      "\u001b[34m[02/17/2020 07:36:12 INFO 140236771903296] Number of GPUs being used: 0\u001b[0m\n",
      "\u001b[34m[02/17/2020 07:36:12 INFO 140236771903296] Setting up with params: {u'_tuning_objective_metric': u'', u'extra_center_factor': u'auto', u'local_lloyd_init_method': u'kmeans++', u'force_dense': u'True', u'epochs': u'1', u'feature_dim': u'784', u'local_lloyd_tol': u'0.0001', u'_disable_wait_to_read': u'false', u'eval_metrics': u'[\"msd\"]', u'_num_kv_servers': u'1', u'mini_batch_size': u'5000', u'_enable_profiler': u'false', u'_num_gpus': u'auto', u'local_lloyd_num_trials': u'auto', u'_log_level': u'info', u'init_method': u'random', u'half_life_time_size': u'0', u'local_lloyd_max_iter': u'300', u'_kvstore': u'auto', u'k': u'10', u'_num_slices': u'1'}\u001b[0m\n",
      "\u001b[34m[02/17/2020 07:36:12 INFO 140236771903296] 'extra_center_factor' was set to 'auto', evaluated to 10.\u001b[0m\n",
      "\u001b[34m[02/17/2020 07:36:12 INFO 140236771903296] Number of GPUs being used: 0\u001b[0m\n",
      "\u001b[34m[02/17/2020 07:36:12 INFO 140236771903296] number of center slices 1\u001b[0m\n",
      "\u001b[34m#metrics {\"Metrics\": {\"Max Batches Seen Between Resets\": {\"count\": 1, \"max\": 1, \"sum\": 1.0, \"min\": 1}, \"Number of Batches Since Last Reset\": {\"count\": 1, \"max\": 1, \"sum\": 1.0, \"min\": 1}, \"Number of Records Since Last Reset\": {\"count\": 1, \"max\": 5000, \"sum\": 5000.0, \"min\": 5000}, \"Total Batches Seen\": {\"count\": 1, \"max\": 1, \"sum\": 1.0, \"min\": 1}, \"Total Records Seen\": {\"count\": 1, \"max\": 5000, \"sum\": 5000.0, \"min\": 5000}, \"Max Records Seen Between Resets\": {\"count\": 1, \"max\": 5000, \"sum\": 5000.0, \"min\": 5000}, \"Reset Count\": {\"count\": 1, \"max\": 0, \"sum\": 0.0, \"min\": 0}}, \"EndTime\": 1581924972.905446, \"Dimensions\": {\"Host\": \"algo-1\", \"Meta\": \"init_train_data_iter\", \"Operation\": \"training\", \"Algorithm\": \"AWS/KMeansWebscale\"}, \"StartTime\": 1581924972.905396}\n",
      "\u001b[0m\n",
      "\u001b[34m[2020-02-17 07:36:12.914] [tensorio] [info] epoch_stats={\"data_pipeline\": \"/opt/ml/input/data/train\", \"epoch\": 0, \"duration\": 79, \"num_examples\": 1, \"num_bytes\": 15820000}\u001b[0m\n",
      "\u001b[35m[02/17/2020 07:36:12 INFO 140259905345344] nvidia-smi took: 0.0251739025116 secs to identify 0 gpus\u001b[0m\n",
      "\u001b[35m[02/17/2020 07:36:12 INFO 140259905345344] Number of GPUs being used: 0\u001b[0m\n",
      "\u001b[35m[02/17/2020 07:36:12 INFO 140259905345344] Setting up with params: {u'_tuning_objective_metric': u'', u'extra_center_factor': u'auto', u'local_lloyd_init_method': u'kmeans++', u'force_dense': u'True', u'epochs': u'1', u'feature_dim': u'784', u'local_lloyd_tol': u'0.0001', u'_disable_wait_to_read': u'false', u'eval_metrics': u'[\"msd\"]', u'_num_kv_servers': u'1', u'mini_batch_size': u'5000', u'_enable_profiler': u'false', u'_num_gpus': u'auto', u'local_lloyd_num_trials': u'auto', u'_log_level': u'info', u'init_method': u'random', u'half_life_time_size': u'0', u'local_lloyd_max_iter': u'300', u'_kvstore': u'auto', u'k': u'10', u'_num_slices': u'1'}\u001b[0m\n",
      "\u001b[35m[02/17/2020 07:36:12 INFO 140259905345344] 'extra_center_factor' was set to 'auto', evaluated to 10.\u001b[0m\n",
      "\u001b[35m[02/17/2020 07:36:12 INFO 140259905345344] Number of GPUs being used: 0\u001b[0m\n",
      "\u001b[35m[02/17/2020 07:36:12 INFO 140259905345344] number of center slices 1\u001b[0m\n",
      "\u001b[35m#metrics {\"Metrics\": {\"Max Batches Seen Between Resets\": {\"count\": 1, \"max\": 1, \"sum\": 1.0, \"min\": 1}, \"Number of Batches Since Last Reset\": {\"count\": 1, \"max\": 1, \"sum\": 1.0, \"min\": 1}, \"Number of Records Since Last Reset\": {\"count\": 1, \"max\": 5000, \"sum\": 5000.0, \"min\": 5000}, \"Total Batches Seen\": {\"count\": 1, \"max\": 1, \"sum\": 1.0, \"min\": 1}, \"Total Records Seen\": {\"count\": 1, \"max\": 5000, \"sum\": 5000.0, \"min\": 5000}, \"Max Records Seen Between Resets\": {\"count\": 1, \"max\": 5000, \"sum\": 5000.0, \"min\": 5000}, \"Reset Count\": {\"count\": 1, \"max\": 0, \"sum\": 0.0, \"min\": 0}}, \"EndTime\": 1581924972.908759, \"Dimensions\": {\"Host\": \"algo-2\", \"Meta\": \"init_train_data_iter\", \"Operation\": \"training\", \"Algorithm\": \"AWS/KMeansWebscale\"}, \"StartTime\": 1581924972.908703}\n",
      "\u001b[0m\n",
      "\u001b[35m[2020-02-17 07:36:12.914] [tensorio] [info] epoch_stats={\"data_pipeline\": \"/opt/ml/input/data/train\", \"epoch\": 0, \"duration\": 77, \"num_examples\": 1, \"num_bytes\": 15820000}\u001b[0m\n",
      "\u001b[34m[2020-02-17 07:36:13.285] [tensorio] [info] epoch_stats={\"data_pipeline\": \"/opt/ml/input/data/train\", \"epoch\": 1, \"duration\": 370, \"num_examples\": 5, \"num_bytes\": 79100000}\u001b[0m\n",
      "\u001b[34m[02/17/2020 07:36:13 INFO 140236771903296] processed a total of 25000 examples\u001b[0m\n",
      "\u001b[34m[02/17/2020 07:36:13 INFO 140236771903296] #progress_metric: host=algo-1, completed 100 % of epochs\u001b[0m\n",
      "\u001b[34m#metrics {\"Metrics\": {\"Max Batches Seen Between Resets\": {\"count\": 1, \"max\": 5, \"sum\": 5.0, \"min\": 5}, \"Number of Batches Since Last Reset\": {\"count\": 1, \"max\": 5, \"sum\": 5.0, \"min\": 5}, \"Number of Records Since Last Reset\": {\"count\": 1, \"max\": 25000, \"sum\": 25000.0, \"min\": 25000}, \"Total Batches Seen\": {\"count\": 1, \"max\": 6, \"sum\": 6.0, \"min\": 6}, \"Total Records Seen\": {\"count\": 1, \"max\": 30000, \"sum\": 30000.0, \"min\": 30000}, \"Max Records Seen Between Resets\": {\"count\": 1, \"max\": 25000, \"sum\": 25000.0, \"min\": 25000}, \"Reset Count\": {\"count\": 1, \"max\": 1, \"sum\": 1.0, \"min\": 1}}, \"EndTime\": 1581924973.288066, \"Dimensions\": {\"Host\": \"algo-1\", \"Meta\": \"training_data_iter\", \"Operation\": \"training\", \"Algorithm\": \"AWS/KMeansWebscale\", \"epoch\": 0}, \"StartTime\": 1581924972.914651}\n",
      "\u001b[0m\n",
      "\u001b[34m[02/17/2020 07:36:13 INFO 140236771903296] #throughput_metric: host=algo-1, train throughput=66919.9036066 records/second\u001b[0m\n",
      "\u001b[34m[02/17/2020 07:36:13 INFO 140236771903296] shrinking 100 centers into 10\u001b[0m\n",
      "\u001b[34m[02/17/2020 07:36:13 INFO 140236771903296] local kmeans attempt #0. Current mean square distance 10.981030\u001b[0m\n",
      "\u001b[34m[02/17/2020 07:36:13 INFO 140236771903296] local kmeans attempt #1. Current mean square distance 11.395299\u001b[0m\n",
      "\u001b[34m[02/17/2020 07:36:13 INFO 140236771903296] local kmeans attempt #2. Current mean square distance 11.060510\u001b[0m\n",
      "\u001b[34m[02/17/2020 07:36:13 INFO 140236771903296] local kmeans attempt #3. Current mean square distance 11.180171\u001b[0m\n",
      "\u001b[34m[02/17/2020 07:36:13 INFO 140236771903296] local kmeans attempt #4. Current mean square distance 11.536693\u001b[0m\n",
      "\u001b[34m[02/17/2020 07:36:13 INFO 140236771903296] local kmeans attempt #5. Current mean square distance 11.213488\u001b[0m\n",
      "\u001b[34m[02/17/2020 07:36:13 INFO 140236771903296] local kmeans attempt #6. Current mean square distance 11.444396\u001b[0m\n",
      "\u001b[34m[02/17/2020 07:36:13 INFO 140236771903296] local kmeans attempt #7. Current mean square distance 11.210573\u001b[0m\n",
      "\u001b[34m[02/17/2020 07:36:13 INFO 140236771903296] local kmeans attempt #8. Current mean square distance 11.850390\u001b[0m\n",
      "\u001b[34m[02/17/2020 07:36:13 INFO 140236771903296] local kmeans attempt #9. Current mean square distance 11.229632\u001b[0m\n",
      "\u001b[34m[02/17/2020 07:36:13 INFO 140236771903296] finished shrinking process. Mean Square Distance = 11\u001b[0m\n",
      "\u001b[34m[02/17/2020 07:36:13 INFO 140236771903296] #quality_metric: host=algo-1, train msd <loss>=10.9810295105\u001b[0m\n",
      "\u001b[34m[02/17/2020 07:36:13 INFO 140236771903296] compute all data-center distances: point norm took: 33.3415%, (0.126155 secs)\u001b[0m\n",
      "\u001b[34m[02/17/2020 07:36:13 INFO 140236771903296] compute all data-center distances: inner product took: 27.3824%, (0.103608 secs)\u001b[0m\n",
      "\u001b[34m[02/17/2020 07:36:13 INFO 140236771903296] batch data loading with context took: 12.6673%, (0.047930 secs)\u001b[0m\n",
      "\u001b[34m[02/17/2020 07:36:13 INFO 140236771903296] gradient: cluster center took: 8.8619%, (0.033531 secs)\u001b[0m\n",
      "\u001b[34m[02/17/2020 07:36:13 INFO 140236771903296] predict compute msd took: 5.8682%, (0.022204 secs)\u001b[0m\n",
      "\u001b[34m[02/17/2020 07:36:13 INFO 140236771903296] collect from kv store took: 3.2433%, (0.012272 secs)\u001b[0m\n",
      "\u001b[34m[02/17/2020 07:36:13 INFO 140236771903296] gradient: cluster size  took: 3.2049%, (0.012126 secs)\u001b[0m\n",
      "\u001b[34m[02/17/2020 07:36:13 INFO 140236771903296] splitting centers key-value pair took: 2.3557%, (0.008913 secs)\u001b[0m\n",
      "\u001b[34m[02/17/2020 07:36:13 INFO 140236771903296] gradient: one_hot took: 1.6910%, (0.006398 secs)\u001b[0m\n",
      "\u001b[34m[02/17/2020 07:36:13 INFO 140236771903296] compute all data-center distances: center norm took: 0.8817%, (0.003336 secs)\u001b[0m\n",
      "\u001b[34m[02/17/2020 07:36:13 INFO 140236771903296] update state and report convergance took: 0.4102%, (0.001552 secs)\u001b[0m\n",
      "\u001b[34m[02/17/2020 07:36:13 INFO 140236771903296] update set-up time took: 0.0553%, (0.000209 secs)\u001b[0m\n",
      "\u001b[34m[02/17/2020 07:36:13 INFO 140236771903296] predict minus dist took: 0.0367%, (0.000139 secs)\u001b[0m\n",
      "\u001b[34m[02/17/2020 07:36:13 INFO 140236771903296] TOTAL took: 0.378373146057\u001b[0m\n",
      "\u001b[34m[02/17/2020 07:36:13 INFO 140236771903296] Number of GPUs being used: 0\u001b[0m\n",
      "\u001b[34m#metrics {\"Metrics\": {\"finalize.time\": {\"count\": 1, \"max\": 341.0768508911133, \"sum\": 341.0768508911133, \"min\": 341.0768508911133}, \"initialize.time\": {\"count\": 1, \"max\": 47.72686958312988, \"sum\": 47.72686958312988, \"min\": 47.72686958312988}, \"model.serialize.time\": {\"count\": 1, \"max\": 0.20313262939453125, \"sum\": 0.20313262939453125, \"min\": 0.20313262939453125}, \"update.time\": {\"count\": 1, \"max\": 373.23999404907227, \"sum\": 373.23999404907227, \"min\": 373.23999404907227}, \"epochs\": {\"count\": 1, \"max\": 1, \"sum\": 1.0, \"min\": 1}, \"state.serialize.time\": {\"count\": 1, \"max\": 0.35309791564941406, \"sum\": 0.35309791564941406, \"min\": 0.35309791564941406}, \"_shrink.time\": {\"count\": 1, \"max\": 338.54198455810547, \"sum\": 338.54198455810547, \"min\": 338.54198455810547}}, \"EndTime\": 1581924973.630404, \"Dimensions\": {\"Host\": \"algo-1\", \"Operation\": \"training\", \"Algorithm\": \"AWS/KMeansWebscale\"}, \"StartTime\": 1581924972.833725}\n",
      "\u001b[0m\n",
      "\u001b[34m[02/17/2020 07:36:13 INFO 140236771903296] Test data is not provided.\u001b[0m\n",
      "\u001b[34m#metrics {\"Metrics\": {\"totaltime\": {\"count\": 1, \"max\": 1636.39497756958, \"sum\": 1636.39497756958, \"min\": 1636.39497756958}, \"setuptime\": {\"count\": 1, \"max\": 24.00493621826172, \"sum\": 24.00493621826172, \"min\": 24.00493621826172}}, \"EndTime\": 1581924973.633323, \"Dimensions\": {\"Host\": \"algo-1\", \"Operation\": \"training\", \"Algorithm\": \"AWS/KMeansWebscale\"}, \"StartTime\": 1581924973.630554}\n",
      "\u001b[0m\n",
      "\u001b[35m[2020-02-17 07:36:13.284] [tensorio] [info] epoch_stats={\"data_pipeline\": \"/opt/ml/input/data/train\", \"epoch\": 1, \"duration\": 369, \"num_examples\": 5, \"num_bytes\": 79100000}\u001b[0m\n",
      "\u001b[35m[02/17/2020 07:36:13 INFO 140259905345344] processed a total of 25000 examples\u001b[0m\n",
      "\u001b[35m[02/17/2020 07:36:13 INFO 140259905345344] #progress_metric: host=algo-2, completed 100 % of epochs\u001b[0m\n",
      "\u001b[35m#metrics {\"Metrics\": {\"Max Batches Seen Between Resets\": {\"count\": 1, \"max\": 5, \"sum\": 5.0, \"min\": 5}, \"Number of Batches Since Last Reset\": {\"count\": 1, \"max\": 5, \"sum\": 5.0, \"min\": 5}, \"Number of Records Since Last Reset\": {\"count\": 1, \"max\": 25000, \"sum\": 25000.0, \"min\": 25000}, \"Total Batches Seen\": {\"count\": 1, \"max\": 6, \"sum\": 6.0, \"min\": 6}, \"Total Records Seen\": {\"count\": 1, \"max\": 30000, \"sum\": 30000.0, \"min\": 30000}, \"Max Records Seen Between Resets\": {\"count\": 1, \"max\": 25000, \"sum\": 25000.0, \"min\": 25000}, \"Reset Count\": {\"count\": 1, \"max\": 1, \"sum\": 1.0, \"min\": 1}}, \"EndTime\": 1581924973.28484, \"Dimensions\": {\"Host\": \"algo-2\", \"Meta\": \"training_data_iter\", \"Operation\": \"training\", \"Algorithm\": \"AWS/KMeansWebscale\", \"epoch\": 0}, \"StartTime\": 1581924972.914583}\n",
      "\u001b[0m\n",
      "\u001b[35m[02/17/2020 07:36:13 INFO 140259905345344] #throughput_metric: host=algo-2, train throughput=67494.7829703 records/second\u001b[0m\n",
      "\u001b[35m[02/17/2020 07:36:13 INFO 140259905345344] shrinking 100 centers into 10\u001b[0m\n",
      "\u001b[35m[02/17/2020 07:36:13 INFO 140259905345344] local kmeans attempt #0. Current mean square distance 11.766844\u001b[0m\n",
      "\u001b[35m[02/17/2020 07:36:13 INFO 140259905345344] local kmeans attempt #1. Current mean square distance 11.539425\u001b[0m\n",
      "\u001b[35m[02/17/2020 07:36:13 INFO 140259905345344] local kmeans attempt #2. Current mean square distance 10.771735\u001b[0m\n",
      "\u001b[35m[02/17/2020 07:36:13 INFO 140259905345344] local kmeans attempt #3. Current mean square distance 11.066149\u001b[0m\n",
      "\u001b[35m[02/17/2020 07:36:13 INFO 140259905345344] local kmeans attempt #4. Current mean square distance 11.511498\u001b[0m\n",
      "\u001b[35m[02/17/2020 07:36:13 INFO 140259905345344] local kmeans attempt #5. Current mean square distance 10.887111\u001b[0m\n",
      "\u001b[35m[02/17/2020 07:36:13 INFO 140259905345344] local kmeans attempt #6. Current mean square distance 11.208120\u001b[0m\n",
      "\u001b[35m[02/17/2020 07:36:13 INFO 140259905345344] local kmeans attempt #7. Current mean square distance 10.881787\u001b[0m\n",
      "\u001b[35m[02/17/2020 07:36:13 INFO 140259905345344] local kmeans attempt #8. Current mean square distance 11.601924\u001b[0m\n",
      "\u001b[35m[02/17/2020 07:36:13 INFO 140259905345344] local kmeans attempt #9. Current mean square distance 10.824242\u001b[0m\n",
      "\u001b[35m[02/17/2020 07:36:13 INFO 140259905345344] finished shrinking process. Mean Square Distance = 11\u001b[0m\n",
      "\u001b[35m[02/17/2020 07:36:13 INFO 140259905345344] #quality_metric: host=algo-2, train msd <loss>=10.7717351913\u001b[0m\n",
      "\u001b[35m[02/17/2020 07:36:13 INFO 140259905345344] compute all data-center distances: point norm took: 35.6953%, (0.134552 secs)\u001b[0m\n",
      "\u001b[35m[02/17/2020 07:36:13 INFO 140259905345344] compute all data-center distances: inner product took: 21.8750%, (0.082457 secs)\u001b[0m\n",
      "\u001b[35m[02/17/2020 07:36:13 INFO 140259905345344] batch data loading with context took: 12.6357%, (0.047630 secs)\u001b[0m\n",
      "\u001b[35m[02/17/2020 07:36:13 INFO 140259905345344] gradient: cluster center took: 9.7626%, (0.036800 secs)\u001b[0m\n",
      "\u001b[35m[02/17/2020 07:36:13 INFO 140259905345344] predict compute msd took: 6.4999%, (0.024501 secs)\u001b[0m\n",
      "\u001b[35m[02/17/2020 07:36:13 INFO 140259905345344] collect from kv store took: 4.2962%, (0.016194 secs)\u001b[0m\n",
      "\u001b[35m[02/17/2020 07:36:13 INFO 140259905345344] gradient: cluster size  took: 3.6547%, (0.013776 secs)\u001b[0m\n",
      "\u001b[35m[02/17/2020 07:36:13 INFO 140259905345344] splitting centers key-value pair took: 2.3856%, (0.008992 secs)\u001b[0m\n",
      "\u001b[35m[02/17/2020 07:36:13 INFO 140259905345344] gradient: one_hot took: 1.7141%, (0.006461 secs)\u001b[0m\n",
      "\u001b[35m[02/17/2020 07:36:13 INFO 140259905345344] compute all data-center distances: center norm took: 0.9729%, (0.003667 secs)\u001b[0m\n",
      "\u001b[35m[02/17/2020 07:36:13 INFO 140259905345344] update state and report convergance took: 0.3982%, (0.001501 secs)\u001b[0m\n",
      "\u001b[35m[02/17/2020 07:36:13 INFO 140259905345344] update set-up time took: 0.0809%, (0.000305 secs)\u001b[0m\n",
      "\u001b[35m[02/17/2020 07:36:13 INFO 140259905345344] predict minus dist took: 0.0289%, (0.000109 secs)\u001b[0m\n",
      "\u001b[35m[02/17/2020 07:36:13 INFO 140259905345344] TOTAL took: 0.376945972443\u001b[0m\n",
      "\u001b[35m[02/17/2020 07:36:13 INFO 140259905345344] Number of GPUs being used: 0\u001b[0m\n",
      "\u001b[35m[02/17/2020 07:36:13 INFO 140259905345344] No model is serialized on a non-master node\u001b[0m\n",
      "\u001b[35m#metrics {\"Metrics\": {\"finalize.time\": {\"count\": 1, \"max\": 399.69897270202637, \"sum\": 399.69897270202637, \"min\": 399.69897270202637}, \"initialize.time\": {\"count\": 1, \"max\": 48.36583137512207, \"sum\": 48.36583137512207, \"min\": 48.36583137512207}, \"model.serialize.time\": {\"count\": 1, \"max\": 0.09608268737792969, \"sum\": 0.09608268737792969, \"min\": 0.09608268737792969}, \"update.time\": {\"count\": 1, \"max\": 369.9831962585449, \"sum\": 369.9831962585449, \"min\": 369.9831962585449}, \"epochs\": {\"count\": 1, \"max\": 1, \"sum\": 1.0, \"min\": 1}, \"state.serialize.time\": {\"count\": 1, \"max\": 0.4088878631591797, \"sum\": 0.4088878631591797, \"min\": 0.4088878631591797}, \"_shrink.time\": {\"count\": 1, \"max\": 397.0310688018799, \"sum\": 397.0310688018799, \"min\": 397.0310688018799}}, \"EndTime\": 1581924973.691917, \"Dimensions\": {\"Host\": \"algo-2\", \"Operation\": \"training\", \"Algorithm\": \"AWS/KMeansWebscale\"}, \"StartTime\": 1581924972.836616}\n",
      "\u001b[0m\n",
      "\u001b[35m[02/17/2020 07:36:13 INFO 140259905345344] Test data is not provided.\u001b[0m\n",
      "\u001b[35m#metrics {\"Metrics\": {\"totaltime\": {\"count\": 1, \"max\": 2080.05690574646, \"sum\": 2080.05690574646, \"min\": 2080.05690574646}, \"setuptime\": {\"count\": 1, \"max\": 15.904903411865234, \"sum\": 15.904903411865234, \"min\": 15.904903411865234}}, \"EndTime\": 1581924973.694258, \"Dimensions\": {\"Host\": \"algo-2\", \"Operation\": \"training\", \"Algorithm\": \"AWS/KMeansWebscale\"}, \"StartTime\": 1581924973.692038}\n",
      "\u001b[0m\n",
      "\n",
      "2020-02-17 07:36:22 Uploading - Uploading generated training model\n",
      "2020-02-17 07:36:22 Completed - Training job completed\n",
      "Training seconds: 76\n",
      "Billable seconds: 76\n",
      "CPU times: user 5.99 s, sys: 303 ms, total: 6.29 s\n",
      "Wall time: 3min 19s\n"
     ]
    }
   ],
   "source": [
    "%%time\n",
    "\n",
    "kmeans.fit(kmeans.record_set(train_set[0]))"
   ]
  },
  {
   "cell_type": "markdown",
   "metadata": {},
   "source": [
    "## Set up hosting for the model\n",
    "Now, we can deploy the model we just trained behind a real-time hosted endpoint.  This next step can take, on average, 7 to 11 minutes to complete."
   ]
  },
  {
   "cell_type": "code",
   "execution_count": 10,
   "metadata": {},
   "outputs": [
    {
     "name": "stdout",
     "output_type": "stream",
     "text": [
      "-----------!CPU times: user 166 ms, sys: 5.4 ms, total: 172 ms\n",
      "Wall time: 5min 31s\n"
     ]
    }
   ],
   "source": [
    "%%time\n",
    "\n",
    "kmeans_predictor = kmeans.deploy(initial_instance_count=1,\n",
    "                                 instance_type='ml.m4.xlarge')"
   ]
  },
  {
   "cell_type": "markdown",
   "metadata": {},
   "source": [
    "## Validate the model for use\n",
    "Finally, we'll validate the model for use. Let's generate a classification for a single observation from the trained model using the endpoint we just created."
   ]
  },
  {
   "cell_type": "code",
   "execution_count": 42,
   "metadata": {},
   "outputs": [
    {
     "name": "stdout",
     "output_type": "stream",
     "text": [
      "[label {\n",
      "  key: \"closest_cluster\"\n",
      "  value {\n",
      "    float32_tensor {\n",
      "      values: 9.0\n",
      "    }\n",
      "  }\n",
      "}\n",
      "label {\n",
      "  key: \"distance_to_cluster\"\n",
      "  value {\n",
      "    float32_tensor {\n",
      "      values: 7.322052478790283\n",
      "    }\n",
      "  }\n",
      "}\n",
      ", label {\n",
      "  key: \"closest_cluster\"\n",
      "  value {\n",
      "    float32_tensor {\n",
      "      values: 4.0\n",
      "    }\n",
      "  }\n",
      "}\n",
      "label {\n",
      "  key: \"distance_to_cluster\"\n",
      "  value {\n",
      "    float32_tensor {\n",
      "      values: 7.195653438568115\n",
      "    }\n",
      "  }\n",
      "}\n",
      "]\n"
     ]
    }
   ],
   "source": [
    "result = kmeans_predictor.predict(train_set[0][30:32])\n",
    "print(result)"
   ]
  },
  {
   "cell_type": "markdown",
   "metadata": {},
   "source": [
    "OK, a single prediction works.\n",
    "\n",
    "Let's do a whole batch and see how well the clustering works."
   ]
  },
  {
   "cell_type": "code",
   "execution_count": 43,
   "metadata": {},
   "outputs": [
    {
     "name": "stdout",
     "output_type": "stream",
     "text": [
      "CPU times: user 21.8 ms, sys: 202 µs, total: 22 ms\n",
      "Wall time: 50 ms\n"
     ]
    }
   ],
   "source": [
    "%%time \n",
    "\n",
    "result = kmeans_predictor.predict(valid_set[0][0:100])\n",
    "clusters = [r.label['closest_cluster'].float32_tensor.values[0] for r in result]"
   ]
  },
  {
   "cell_type": "code",
   "execution_count": 44,
   "metadata": {},
   "outputs": [
    {
     "name": "stdout",
     "output_type": "stream",
     "text": [
      "\n",
      "\n",
      "\n",
      "Cluster 0:\n"
     ]
    },
    {
     "data": {
      "image/png": "[encoded data removed]",
      "text/plain": [
       "<Figure size 360x72 with 5 Axes>"
      ]
     },
     "metadata": {},
     "output_type": "display_data"
    },
    {
     "name": "stdout",
     "output_type": "stream",
     "text": [
      "\n",
      "\n",
      "\n",
      "Cluster 1:\n"
     ]
    },
    {
     "data": {
      "image/png": "[encoded data removed]",
      "text/plain": [
       "<Figure size 360x144 with 10 Axes>"
      ]
     },
     "metadata": {},
     "output_type": "display_data"
    },
    {
     "name": "stdout",
     "output_type": "stream",
     "text": [
      "\n",
      "\n",
      "\n",
      "Cluster 2:\n"
     ]
    },
    {
     "data": {
      "image/png": "[encoded data removed]",
      "text/plain": [
       "<Figure size 360x144 with 10 Axes>"
      ]
     },
     "metadata": {},
     "output_type": "display_data"
    },
    {
     "name": "stdout",
     "output_type": "stream",
     "text": [
      "\n",
      "\n",
      "\n",
      "Cluster 3:\n"
     ]
    },
    {
     "data": {
      "image/png": "[encoded data removed]",
      "text/plain": [
       "<Figure size 360x216 with 15 Axes>"
      ]
     },
     "metadata": {},
     "output_type": "display_data"
    },
    {
     "name": "stdout",
     "output_type": "stream",
     "text": [
      "\n",
      "\n",
      "\n",
      "Cluster 4:\n"
     ]
    },
    {
     "data": {
      "image/png": "[encoded data removed]",
      "text/plain": [
       "<Figure size 360x144 with 10 Axes>"
      ]
     },
     "metadata": {},
     "output_type": "display_data"
    },
    {
     "name": "stdout",
     "output_type": "stream",
     "text": [
      "\n",
      "\n",
      "\n",
      "Cluster 5:\n"
     ]
    },
    {
     "data": {
      "image/png": "[encoded data removed]",
      "text/plain": [
       "<Figure size 360x144 with 10 Axes>"
      ]
     },
     "metadata": {},
     "output_type": "display_data"
    },
    {
     "name": "stdout",
     "output_type": "stream",
     "text": [
      "\n",
      "\n",
      "\n",
      "Cluster 6:\n"
     ]
    },
    {
     "data": {
      "image/png": "[encoded data removed]",
      "text/plain": [
       "<Figure size 360x216 with 15 Axes>"
      ]
     },
     "metadata": {},
     "output_type": "display_data"
    },
    {
     "name": "stdout",
     "output_type": "stream",
     "text": [
      "\n",
      "\n",
      "\n",
      "Cluster 7:\n"
     ]
    },
    {
     "data": {
      "image/png": "[encoded data removed]",
      "text/plain": [
       "<Figure size 360x72 with 5 Axes>"
      ]
     },
     "metadata": {},
     "output_type": "display_data"
    },
    {
     "name": "stdout",
     "output_type": "stream",
     "text": [
      "\n",
      "\n",
      "\n",
      "Cluster 8:\n"
     ]
    },
    {
     "data": {
      "image/png": "[encoded data removed]",
      "text/plain": [
       "<Figure size 360x288 with 20 Axes>"
      ]
     },
     "metadata": {},
     "output_type": "display_data"
    },
    {
     "name": "stdout",
     "output_type": "stream",
     "text": [
      "\n",
      "\n",
      "\n",
      "Cluster 9:\n"
     ]
    },
    {
     "data": {
      "image/png": "[encoded data removed]",
      "text/plain": [
       "<Figure size 360x216 with 15 Axes>"
      ]
     },
     "metadata": {},
     "output_type": "display_data"
    }
   ],
   "source": [
    "for cluster in range(10):\n",
    "    print('\\n\\n\\nCluster {}:'.format(int(cluster)))\n",
    "    digits = [ img for l, img in zip(clusters, valid_set[0]) if int(l) == cluster ]\n",
    "    height=((len(digits)-1)//5)+1\n",
    "    width=5\n",
    "    plt.rcParams[\"figure.figsize\"] = (width,height)\n",
    "    _, subplots = plt.subplots(height, width)\n",
    "    subplots=numpy.ndarray.flatten(subplots)\n",
    "    for subplot, image in zip(subplots, digits):\n",
    "        show_digit(image, subplot=subplot)\n",
    "    for subplot in subplots[len(digits):]:\n",
    "        subplot.axis('off')\n",
    "\n",
    "    plt.show()"
   ]
  },
  {
   "cell_type": "markdown",
   "metadata": {},
   "source": [
    "### The bottom line\n",
    "\n",
    "K-Means clustering is not the best algorithm for image analysis problems, but we do see pretty reasonable clusters being built."
   ]
  },
  {
   "cell_type": "markdown",
   "metadata": {},
   "source": [
    "### (Optional) Delete the Endpoint\n",
    "If you're ready to be done with this notebook, make sure run the cell below.  This will remove the hosted endpoint you created and avoid any charges from a stray instance being left on."
   ]
  },
  {
   "cell_type": "code",
   "execution_count": null,
   "metadata": {},
   "outputs": [],
   "source": [
    "print(kmeans_predictor.endpoint)"
   ]
  },
  {
   "cell_type": "code",
   "execution_count": null,
   "metadata": {},
   "outputs": [],
   "source": [
    "import sagemaker\n",
    "sagemaker.Session().delete_endpoint(kmeans_predictor.endpoint)"
   ]
  }
 ],
 "metadata": {
  "kernelspec": {
   "display_name": "conda_python3",
   "language": "python",
   "name": "conda_python3"
  },
  "language_info": {
   "codemirror_mode": {
    "name": "ipython",
    "version": 3
   },
   "file_extension": ".py",
   "mimetype": "text/x-python",
   "name": "python",
   "nbconvert_exporter": "python",
   "pygments_lexer": "ipython3",
   "version": "3.6.5"
  },
  "notice": "Copyright 2017 Amazon.com, Inc. or its affiliates. All Rights Reserved.  Licensed under the Apache License, Version 2.0 (the \"License\"). You may not use this file except in compliance with the License. A copy of the License is located at http://aws.amazon.com/apache2.0/ or in the \"license\" file accompanying this file. This file is distributed on an \"AS IS\" BASIS, WITHOUT WARRANTIES OR CONDITIONS OF ANY KIND, either express or implied. See the License for the specific language governing permissions and limitations under the License."
 },
 "nbformat": 4,
 "nbformat_minor": 4
}
